{
 "cells": [
  {
   "cell_type": "markdown",
   "metadata": {},
   "source": [
    "# JSON Data Wrangling Exercise "
   ]
  },
  {
   "cell_type": "code",
   "execution_count": 10,
   "metadata": {
    "collapsed": true
   },
   "outputs": [],
   "source": [
    "# Import the necessary libraries\n",
    "\n",
    "import json\n",
    "from pandas.io.json import json_normalize\n",
    "import pandas as pd\n",
    "import os\n",
    "import numpy as np\n",
    "import matplotlib.pyplot as plt"
   ]
  },
  {
   "cell_type": "code",
   "execution_count": 11,
   "metadata": {},
   "outputs": [
    {
     "name": "stdout",
     "output_type": "stream",
     "text": [
      "                                    _id  approvalfy board_approval_month  \\\n",
      "0  {'$oid': '52b213b38594d8a2be17c780'}        1999             November   \n",
      "1  {'$oid': '52b213b38594d8a2be17c781'}        2015             November   \n",
      "2  {'$oid': '52b213b38594d8a2be17c782'}        2014             November   \n",
      "3  {'$oid': '52b213b38594d8a2be17c783'}        2014              October   \n",
      "4  {'$oid': '52b213b38594d8a2be17c784'}        2014              October   \n",
      "\n",
      "      boardapprovaldate                                 borrower  \\\n",
      "0  2013-11-12T00:00:00Z  FEDERAL DEMOCRATIC REPUBLIC OF ETHIOPIA   \n",
      "1  2013-11-04T00:00:00Z                    GOVERNMENT OF TUNISIA   \n",
      "2  2013-11-01T00:00:00Z   MINISTRY OF FINANCE AND ECONOMIC DEVEL   \n",
      "3  2013-10-31T00:00:00Z   MIN. OF PLANNING AND INT'L COOPERATION   \n",
      "4  2013-10-31T00:00:00Z                      MINISTRY OF FINANCE   \n",
      "\n",
      "            closingdate                              country_namecode  \\\n",
      "0  2018-07-07T00:00:00Z  Federal Democratic Republic of Ethiopia!$!ET   \n",
      "1                   NaN                      Republic of Tunisia!$!TN   \n",
      "2                   NaN                                   Tuvalu!$!TV   \n",
      "3                   NaN                        Republic of Yemen!$!RY   \n",
      "4  2019-04-30T00:00:00Z                       Kingdom of Lesotho!$!LS   \n",
      "\n",
      "  countrycode                              countryname    countryshortname  \\\n",
      "0          ET  Federal Democratic Republic of Ethiopia            Ethiopia   \n",
      "1          TN                      Republic of Tunisia             Tunisia   \n",
      "2          TV                                   Tuvalu              Tuvalu   \n",
      "3          RY                        Republic of Yemen  Yemen, Republic of   \n",
      "4          LS                       Kingdom of Lesotho             Lesotho   \n",
      "\n",
      "                         ...                           sectorcode source  \\\n",
      "0                        ...                          ET,BS,ES,EP   IBRD   \n",
      "1                        ...                                BZ,BS   IBRD   \n",
      "2                        ...                                   TI   IBRD   \n",
      "3                        ...                                   JB   IBRD   \n",
      "4                        ...                             FH,YW,YZ   IBRD   \n",
      "\n",
      "   status  supplementprojectflg  \\\n",
      "0  Active                     N   \n",
      "1  Active                     N   \n",
      "2  Active                     Y   \n",
      "3  Active                     N   \n",
      "4  Active                     N   \n",
      "\n",
      "                                              theme1  \\\n",
      "0      {'Percent': 100, 'Name': 'Education for all'}   \n",
      "1  {'Percent': 30, 'Name': 'Other economic manage...   \n",
      "2    {'Percent': 46, 'Name': 'Regional integration'}   \n",
      "3  {'Percent': 50, 'Name': 'Participation and civ...   \n",
      "4  {'Percent': 30, 'Name': 'Export development an...   \n",
      "\n",
      "                                      theme_namecode    themecode   totalamt  \\\n",
      "0      [{'code': '65', 'name': 'Education for all'}]           65  130000000   \n",
      "1  [{'code': '24', 'name': 'Other economic manage...        54,24          0   \n",
      "2  [{'code': '47', 'name': 'Regional integration'...  52,81,25,47    6060000   \n",
      "3  [{'code': '57', 'name': 'Participation and civ...        59,57          0   \n",
      "4  [{'code': '45', 'name': 'Export development an...        41,45   13100000   \n",
      "\n",
      "  totalcommamt                                                url  \n",
      "0    130000000  http://www.worldbank.org/projects/P129828/ethi...  \n",
      "1      4700000  http://www.worldbank.org/projects/P144674?lang=en  \n",
      "2      6060000  http://www.worldbank.org/projects/P145310?lang=en  \n",
      "3      1500000  http://www.worldbank.org/projects/P144665?lang=en  \n",
      "4     13100000  http://www.worldbank.org/projects/P144933/seco...  \n",
      "\n",
      "[5 rows x 50 columns]\n"
     ]
    }
   ],
   "source": [
    "# Import the data as a dataframe\n",
    "\n",
    "\n",
    "data_location = 'C:\\\\Users\\\\sawal\\\\mystuff\\\\data_wrangling_json\\\\data'\n",
    "assert os.path.isdir(data_location), 'invalid path'\n",
    "os.chdir(data_location)\n",
    "\n",
    "with open(\"world_bank_projects.json\", 'r') as file:\n",
    "    wb_df = pd.read_json(file)\n",
    "\n",
    "# Perform quick data check \n",
    "\n",
    "print(wb_df.head())"
   ]
  },
  {
   "cell_type": "code",
   "execution_count": 12,
   "metadata": {},
   "outputs": [
    {
     "name": "stdout",
     "output_type": "stream",
     "text": [
      "                                      _id  approvalfy board_approval_month  \\\n",
      "495  {'$oid': '52b213b38594d8a2be17c96f'}        2013               August   \n",
      "496  {'$oid': '52b213b38594d8a2be17c970'}        2013               August   \n",
      "497  {'$oid': '52b213b38594d8a2be17c971'}        2013               August   \n",
      "498  {'$oid': '52b213b38594d8a2be17c972'}        2013               August   \n",
      "499  {'$oid': '52b213b38594d8a2be17c973'}        2013               August   \n",
      "\n",
      "        boardapprovaldate                              borrower  \\\n",
      "495  2012-08-10T00:00:00Z           THE COMPETITIVENESS COMPANY   \n",
      "496  2012-08-09T00:00:00Z       LAO PEOPLES DEMOCRATIC REPUBLIC   \n",
      "497  2012-08-03T00:00:00Z  GOVERNMENT OF THE REPUBLIC OF GUINEA   \n",
      "498  2012-08-02T00:00:00Z                 REPUBLIC OF INDONESIA   \n",
      "499  2012-08-02T00:00:00Z                    GOVERMENT OF KENYA   \n",
      "\n",
      "              closingdate                       country_namecode countrycode  \\\n",
      "495  2013-08-31T00:00:00Z                           Jamaica!$!JM          JM   \n",
      "496  2012-12-31T00:00:00Z  Lao People's Democratic Republic!$!LA          LA   \n",
      "497  2014-12-31T00:00:00Z                Republic of Guinea!$!GN          GN   \n",
      "498  2017-09-30T00:00:00Z             Republic of Indonesia!$!ID          ID   \n",
      "499  2018-12-31T00:00:00Z                 Republic of Kenya!$!KE          KE   \n",
      "\n",
      "                          countryname                  countryshortname  \\\n",
      "495                           Jamaica                           Jamaica   \n",
      "496  Lao People's Democratic Republic  Lao People's Democratic Republic   \n",
      "497                Republic of Guinea                            Guinea   \n",
      "498             Republic of Indonesia                         Indonesia   \n",
      "499                 Republic of Kenya                             Kenya   \n",
      "\n",
      "                           ...                              sectorcode source  \\\n",
      "495                        ...                                   EV,AZ   IBRD   \n",
      "496                        ...                          YZ,JA,EZ,FZ,BC   IBRD   \n",
      "497                        ...                                AB,AH,AI   IBRD   \n",
      "498                        ...                                YA,BL,AB   IBRD   \n",
      "499                        ...                                   BV,TC   IBRD   \n",
      "\n",
      "     status  supplementprojectflg  \\\n",
      "495  Closed                     N   \n",
      "496  Closed                     N   \n",
      "497  Active                     N   \n",
      "498  Active                     N   \n",
      "499  Active                     N   \n",
      "\n",
      "                                                theme1  \\\n",
      "495  {'Percent': 50, 'Name': 'Regulation and compet...   \n",
      "496            {'Percent': 14, 'Name': 'Child health'}   \n",
      "497  {'Percent': 100, 'Name': 'Global food crisis r...   \n",
      "498  {'Percent': 85, 'Name': 'Rural services and in...   \n",
      "499  {'Percent': 1, 'Name': 'Municipal governance a...   \n",
      "\n",
      "                                        theme_namecode    themecode  \\\n",
      "495  [{'code': '40', 'name': 'Regulation and compet...        62,40   \n",
      "496  [{'code': '63', 'name': 'Child health'}, {'cod...  65,27,49,63   \n",
      "497  [{'code': '91', 'name': 'Global food crisis re...           91   \n",
      "498  [{'code': '78', 'name': 'Rural services and in...     77,91,78   \n",
      "499  [{'code': '73', 'name': 'Municipal governance ...  39,49,88,73   \n",
      "\n",
      "      totalamt totalcommamt                                                url  \n",
      "495          0        50000  http://www.worldbank.org/projects/P127299/tech...  \n",
      "496   20000000     20000000  http://www.worldbank.org/projects/P125298/lao-...  \n",
      "497          0     20000000  http://www.worldbank.org/projects/P128309/seco...  \n",
      "498   80000000     80000000  http://www.worldbank.org/projects/P117243/sust...  \n",
      "499  300000000    300000000  http://www.worldbank.org/projects/P126321/keny...  \n",
      "\n",
      "[5 rows x 50 columns]\n"
     ]
    }
   ],
   "source": [
    "print(wb_df.tail())"
   ]
  },
  {
   "cell_type": "code",
   "execution_count": 13,
   "metadata": {
    "scrolled": false
   },
   "outputs": [
    {
     "name": "stdout",
     "output_type": "stream",
     "text": [
      "<class 'pandas.core.frame.DataFrame'>\n",
      "RangeIndex: 500 entries, 0 to 499\n",
      "Data columns (total 50 columns):\n",
      "_id                         500 non-null object\n",
      "approvalfy                  500 non-null int64\n",
      "board_approval_month        500 non-null object\n",
      "boardapprovaldate           500 non-null object\n",
      "borrower                    485 non-null object\n",
      "closingdate                 370 non-null object\n",
      "country_namecode            500 non-null object\n",
      "countrycode                 500 non-null object\n",
      "countryname                 500 non-null object\n",
      "countryshortname            500 non-null object\n",
      "docty                       446 non-null object\n",
      "envassesmentcategorycode    430 non-null object\n",
      "grantamt                    500 non-null int64\n",
      "ibrdcommamt                 500 non-null int64\n",
      "id                          500 non-null object\n",
      "idacommamt                  500 non-null int64\n",
      "impagency                   472 non-null object\n",
      "lendinginstr                495 non-null object\n",
      "lendinginstrtype            495 non-null object\n",
      "lendprojectcost             500 non-null int64\n",
      "majorsector_percent         500 non-null object\n",
      "mjsector_namecode           500 non-null object\n",
      "mjtheme                     491 non-null object\n",
      "mjtheme_namecode            500 non-null object\n",
      "mjthemecode                 500 non-null object\n",
      "prodline                    500 non-null object\n",
      "prodlinetext                500 non-null object\n",
      "productlinetype             500 non-null object\n",
      "project_abstract            362 non-null object\n",
      "project_name                500 non-null object\n",
      "projectdocs                 446 non-null object\n",
      "projectfinancialtype        500 non-null object\n",
      "projectstatusdisplay        500 non-null object\n",
      "regionname                  500 non-null object\n",
      "sector                      500 non-null object\n",
      "sector1                     500 non-null object\n",
      "sector2                     380 non-null object\n",
      "sector3                     265 non-null object\n",
      "sector4                     174 non-null object\n",
      "sector_namecode             500 non-null object\n",
      "sectorcode                  500 non-null object\n",
      "source                      500 non-null object\n",
      "status                      500 non-null object\n",
      "supplementprojectflg        498 non-null object\n",
      "theme1                      500 non-null object\n",
      "theme_namecode              491 non-null object\n",
      "themecode                   491 non-null object\n",
      "totalamt                    500 non-null int64\n",
      "totalcommamt                500 non-null int64\n",
      "url                         500 non-null object\n",
      "dtypes: int64(7), object(43)\n",
      "memory usage: 195.4+ KB\n",
      "None\n"
     ]
    }
   ],
   "source": [
    "# There are various data types, including nested objects\n",
    "\n",
    "print(wb_df.info())"
   ]
  },
  {
   "cell_type": "markdown",
   "metadata": {},
   "source": [
    "# Task 1: Find the 10 countries with the most projects"
   ]
  },
  {
   "cell_type": "code",
   "execution_count": 14,
   "metadata": {},
   "outputs": [
    {
     "name": "stdout",
     "output_type": "stream",
     "text": [
      "0 _id\n",
      "1 approvalfy\n",
      "2 board_approval_month\n",
      "3 boardapprovaldate\n",
      "4 borrower\n",
      "5 closingdate\n",
      "6 country_namecode\n",
      "7 countrycode\n",
      "8 countryname\n",
      "9 countryshortname\n",
      "10 docty\n",
      "11 envassesmentcategorycode\n",
      "12 grantamt\n",
      "13 ibrdcommamt\n",
      "14 id\n",
      "15 idacommamt\n",
      "16 impagency\n",
      "17 lendinginstr\n",
      "18 lendinginstrtype\n",
      "19 lendprojectcost\n",
      "20 majorsector_percent\n",
      "21 mjsector_namecode\n",
      "22 mjtheme\n",
      "23 mjtheme_namecode\n",
      "24 mjthemecode\n",
      "25 prodline\n",
      "26 prodlinetext\n",
      "27 productlinetype\n",
      "28 project_abstract\n",
      "29 project_name\n",
      "30 projectdocs\n",
      "31 projectfinancialtype\n",
      "32 projectstatusdisplay\n",
      "33 regionname\n",
      "34 sector\n",
      "35 sector1\n",
      "36 sector2\n",
      "37 sector3\n",
      "38 sector4\n",
      "39 sector_namecode\n",
      "40 sectorcode\n",
      "41 source\n",
      "42 status\n",
      "43 supplementprojectflg\n",
      "44 theme1\n",
      "45 theme_namecode\n",
      "46 themecode\n",
      "47 totalamt\n",
      "48 totalcommamt\n",
      "49 url\n"
     ]
    }
   ],
   "source": [
    "# Inspect the columns to find relevent country column\n",
    "\n",
    "for idx, col in enumerate(wb_df.columns):\n",
    "    print(idx, col)"
   ]
  },
  {
   "cell_type": "code",
   "execution_count": 15,
   "metadata": {},
   "outputs": [
    {
     "name": "stdout",
     "output_type": "stream",
     "text": [
      "                               country_namecode countrycode  \\\n",
      "0  Federal Democratic Republic of Ethiopia!$!ET          ET   \n",
      "1                      Republic of Tunisia!$!TN          TN   \n",
      "2                                   Tuvalu!$!TV          TV   \n",
      "3                        Republic of Yemen!$!RY          RY   \n",
      "4                       Kingdom of Lesotho!$!LS          LS   \n",
      "\n",
      "                               countryname    countryshortname  \n",
      "0  Federal Democratic Republic of Ethiopia            Ethiopia  \n",
      "1                      Republic of Tunisia             Tunisia  \n",
      "2                                   Tuvalu              Tuvalu  \n",
      "3                        Republic of Yemen  Yemen, Republic of  \n",
      "4                       Kingdom of Lesotho             Lesotho  \n"
     ]
    }
   ],
   "source": [
    "# Check which column will yield the 'cleanest' version of country by viewing the first 5 records of the relevent columns\n",
    "\n",
    "print(wb_df.iloc[:5, 6:10])\n"
   ]
  },
  {
   "cell_type": "code",
   "execution_count": 16,
   "metadata": {},
   "outputs": [
    {
     "name": "stdout",
     "output_type": "stream",
     "text": [
      "Indonesia             19\n",
      "China                 19\n",
      "Vietnam               17\n",
      "India                 16\n",
      "Yemen, Republic of    13\n",
      "Nepal                 12\n",
      "Morocco               12\n",
      "Bangladesh            12\n",
      "Africa                11\n",
      "Mozambique            11\n",
      "Name: countryshortname, dtype: int64\n"
     ]
    }
   ],
   "source": [
    "# Using the 'countryshortname' column, utilize the value_counts method and assign the top ten to a variable\n",
    "\n",
    "top_pj_by_country = wb_df['countryshortname'].value_counts()[:10]\n",
    "\n",
    "# Print out the variable\n",
    "print(top_pj_by_country)"
   ]
  },
  {
   "cell_type": "code",
   "execution_count": 17,
   "metadata": {},
   "outputs": [
    {
     "data": {
      "image/png": "[encoded data removed]",
      "text/plain": [
       "<Figure size 432x288 with 1 Axes>"
      ]
     },
     "metadata": {},
     "output_type": "display_data"
    }
   ],
   "source": [
    "# Create a Bar Chart to visualize the top ten countries with the most projects\n",
    "\n",
    "top_pj_by_country.plot(kind = 'bar')\n",
    "plt.xlabel('Country')\n",
    "plt.title('Top 10 Countries by Project Total')\n",
    "plt.yticks(np.arange(1, max(top_pj_by_country) + 1, 1))\n",
    "plt.ylabel('Total')\n",
    "plt.show()"
   ]
  },
  {
   "cell_type": "markdown",
   "metadata": {},
   "source": [
    "# Task 2 - Find the top 10 major project themes"
   ]
  },
  {
   "cell_type": "code",
   "execution_count": 18,
   "metadata": {},
   "outputs": [
    {
     "name": "stdout",
     "output_type": "stream",
     "text": [
      "0    [{'code': '8', 'name': 'Human development'}, {...\n",
      "1    [{'code': '1', 'name': 'Economic management'},...\n",
      "2    [{'code': '5', 'name': 'Trade and integration'...\n",
      "3    [{'code': '7', 'name': 'Social dev/gender/incl...\n",
      "4    [{'code': '5', 'name': 'Trade and integration'...\n",
      "Name: mjtheme_namecode, dtype: object\n"
     ]
    }
   ],
   "source": [
    "\n",
    "# Inspect the first 5 rows of projects column\n",
    "\n",
    "print(wb_df['mjtheme_namecode'][:5])\n"
   ]
  },
  {
   "cell_type": "code",
   "execution_count": 19,
   "metadata": {
    "collapsed": true
   },
   "outputs": [],
   "source": [
    "# Each observation of this variable contains a nested object and will not be able to be analyzed in its current form\n",
    "\n",
    "# Load original json file as text\n",
    "\n",
    "with open('world_bank_projects.json', 'r') as file:\n",
    "    wb_json = json.load(file)\n"
   ]
  },
  {
   "cell_type": "code",
   "execution_count": 20,
   "metadata": {},
   "outputs": [
    {
     "name": "stdout",
     "output_type": "stream",
     "text": [
      "Environment and natural resources management    223\n",
      "Rural development                               202\n",
      "Human development                               197\n",
      "Public sector governance                        184\n",
      "Social protection and risk management           158\n",
      "Financial and private sector development        130\n",
      "                                                122\n",
      "Social dev/gender/inclusion                     119\n",
      "Trade and integration                            72\n",
      "Urban development                                47\n",
      "Name: name, dtype: int64\n"
     ]
    }
   ],
   "source": [
    "# Normalize this object and create separate dataframe\n",
    "\n",
    "theme_normalized = json_normalize(wb_json, 'mjtheme_namecode')\n",
    "\n",
    "# Use value counts method for the top ten projects by name\n",
    "\n",
    "top_mjr_pj_themes = theme_normalized['name'].value_counts()[:10]\n",
    "\n",
    "# Print the top 10 projects\n",
    "\n",
    "print(top_mjr_pj_themes)"
   ]
  },
  {
   "cell_type": "code",
   "execution_count": 21,
   "metadata": {},
   "outputs": [
    {
     "data": {
      "image/png": "[encoded data removed]",
      "text/plain": [
       "<Figure size 432x288 with 1 Axes>"
      ]
     },
     "metadata": {},
     "output_type": "display_data"
    }
   ],
   "source": [
    "# Create a horizontal bar plot\n",
    "\n",
    "top_mjr_pj_themes.plot(kind = 'barh', color = 'darkgreen', ecolor = 'black')\n",
    "plt.ylabel('Project Types')\n",
    "plt.xlabel('Total')\n",
    "plt.title('Top 10 Project Types')\n",
    "plt.show()"
   ]
  },
  {
   "cell_type": "markdown",
   "metadata": {},
   "source": [
    "# Task 3: Create a dataframe with the missing values filled in "
   ]
  },
  {
   "cell_type": "code",
   "execution_count": 22,
   "metadata": {},
   "outputs": [
    {
     "name": "stdout",
     "output_type": "stream",
     "text": [
      "    code                                          name\n",
      "0      8                             Human development\n",
      "1     11                                              \n",
      "2      1                           Economic management\n",
      "3      6         Social protection and risk management\n",
      "4      5                         Trade and integration\n",
      "5      2                      Public sector governance\n",
      "6     11  Environment and natural resources management\n",
      "8      7                   Social dev/gender/inclusion\n",
      "11     4      Financial and private sector development\n",
      "13     6                                              \n",
      "17     8                                              \n",
      "18    10                             Rural development\n",
      "19     7                                              \n",
      "24     2                                              \n",
      "29     4                                              \n",
      "53     9                             Urban development\n",
      "121   10                                              \n",
      "201    5                                              \n",
      "212    1                                              \n",
      "252    3                                   Rule of law\n",
      "333    9                                              \n",
      "493    3                                              \n"
     ]
    }
   ],
   "source": [
    "# Look into missing values by viewing the two columns as unique and determine if we can use the other column to fill in\n",
    "# missing data\n",
    "\n",
    "print(theme_normalized.drop_duplicates())"
   ]
  },
  {
   "cell_type": "code",
   "execution_count": 23,
   "metadata": {
    "collapsed": true
   },
   "outputs": [],
   "source": [
    "# The missing names can be mapped to the code column.\n",
    "\n",
    "\n",
    "# Fill in the missing values with NaN \n",
    "theme_normalized = theme_normalized.replace('', np.nan)\n",
    "\n",
    "# Create a temporary dataframe which contains the unique code and names without\n",
    "map_df = theme_normalized.dropna().drop_duplicates(subset = ['code', 'name'])\n",
    "\n",
    "# Create a dictionary of keys and values for mapping the missing name values with the code\n",
    "map_val = dict(zip(map_df.code, map_df.name))\n",
    "\n",
    "\n",
    "# Map the values to a new column, 'name_fixed' , which will have the missing values filled in\n",
    "theme_normalized['name_fixed'] =  theme_normalized['code'].map(map_val)"
   ]
  },
  {
   "cell_type": "code",
   "execution_count": 24,
   "metadata": {
    "collapsed": true
   },
   "outputs": [],
   "source": [
    "# Check that the non-missing values match in the 'names_fixed' and 'names' column\n",
    "\n",
    "# Sort by 'name'\n",
    "theme_normalized = theme_normalized.sort_values('name')\n",
    "\n",
    "# Determine the column numbers to check against\n",
    "na_number = len(theme_normalized) - theme_normalized['name'].isnull().sum()\n",
    "\n",
    "\n",
    "# Create a boolean for each value\n",
    "check = theme_normalized['name'][:na_number] == theme_normalized['name_fixed'][:na_number]\n",
    "\n",
    "# Check boolean to see if there are any discrepancies\n",
    "for i in check:\n",
    "    if i == False:\n",
    "        print('error')\n",
    "    else:\n",
    "        continue\n",
    "        \n",
    "# No errors"
   ]
  },
  {
   "cell_type": "markdown",
   "metadata": {},
   "source": [
    "# Task 2 Revisited: Top 10 major project themes with complete data"
   ]
  },
  {
   "cell_type": "code",
   "execution_count": 25,
   "metadata": {},
   "outputs": [
    {
     "name": "stdout",
     "output_type": "stream",
     "text": [
      "Environment and natural resources management    250\n",
      "Rural development                               216\n",
      "Human development                               210\n",
      "Public sector governance                        199\n",
      "Social protection and risk management           168\n",
      "Financial and private sector development        146\n",
      "Social dev/gender/inclusion                     130\n",
      "Trade and integration                            77\n",
      "Urban development                                50\n",
      "Economic management                              38\n",
      "Name: name_fixed, dtype: int64\n"
     ]
    },
    {
     "data": {
      "image/png": "[encoded data removed]",
      "text/plain": [
       "<Figure size 432x288 with 1 Axes>"
      ]
     },
     "metadata": {},
     "output_type": "display_data"
    }
   ],
   "source": [
    "\n",
    "# Now that the missing values have been filled, create a new list of the top projects\n",
    "\n",
    "top_mjr_pj_themes_2 = theme_normalized['name_fixed'].value_counts()[:10]\n",
    "\n",
    "# Print the top 10 projects\n",
    "print(top_mjr_pj_themes_2)\n",
    "\n",
    "# Create a horizontal bar plot\n",
    "\n",
    "top_mjr_pj_themes_2.plot(kind = 'barh', color = 'darkgreen', ecolor = 'black')\n",
    "plt.ylabel('Project Types')\n",
    "plt.xlabel('Total')\n",
    "plt.title('Top 10 Project Types')\n",
    "plt.show()"
   ]
  },
  {
   "cell_type": "code",
   "execution_count": null,
   "metadata": {
    "collapsed": true
   },
   "outputs": [],
   "source": []
  }
 ],
 "metadata": {
  "kernelspec": {
   "display_name": "Python 3",
   "language": "python",
   "name": "python3"
  },
  "language_info": {
   "codemirror_mode": {
    "name": "ipython",
    "version": 3
   },
   "file_extension": ".py",
   "mimetype": "text/x-python",
   "name": "python",
   "nbconvert_exporter": "python",
   "pygments_lexer": "ipython3",
   "version": "3.6.2"
  }
 },
 "nbformat": 4,
 "nbformat_minor": 2
}
